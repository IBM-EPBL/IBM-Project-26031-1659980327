{
 "cells": [
  {
   "cell_type": "markdown",
   "id": "752213f5",
   "metadata": {},
   "source": [
    "Exercises\n",
    "Answer the questions or complete the tasks outlined in bold below, use the specific method described if applicable.\n",
    "\n",
    "** What is 7 to the power of 4?**"
   ]
  },
  {
   "cell_type": "code",
   "execution_count": 1,
   "id": "d23f232f",
   "metadata": {},
   "outputs": [
    {
     "data": {
      "text/plain": [
       "2401"
      ]
     },
     "execution_count": 1,
     "metadata": {},
     "output_type": "execute_result"
    }
   ],
   "source": [
    "7**4"
   ]
  },
  {
   "cell_type": "markdown",
   "id": "368c5d39",
   "metadata": {},
   "source": [
    "** Split this string:**\n",
    "\n",
    "s = \"Hi there Susmitha!\"\n",
    "\n",
    "into a list."
   ]
  },
  {
   "cell_type": "code",
   "execution_count": 2,
   "id": "0ec16a05",
   "metadata": {},
   "outputs": [
    {
     "name": "stdout",
     "output_type": "stream",
     "text": [
      "['Hi', 'there', 'Susmitha!']\n"
     ]
    }
   ],
   "source": [
    "s = \"Hi there Susmitha!\"\n",
    "s = s.split(\" \")\n",
    "print(s)"
   ]
  },
  {
   "cell_type": "markdown",
   "id": "5e2926a6",
   "metadata": {},
   "source": [
    "** Given the variables:**\n",
    "\n",
    "planet = \"Earth\"\n",
    "diameter = 12742\n",
    "\n",
    "** Use .format() to print the following string: **\n",
    "\n",
    "The diameter of Earth is 12742 kilometers."
   ]
  },
  {
   "cell_type": "code",
   "execution_count": 3,
   "id": "75774f03",
   "metadata": {},
   "outputs": [
    {
     "name": "stdout",
     "output_type": "stream",
     "text": [
      "The diameter of Earth is 12742 kilometers.\n"
     ]
    }
   ],
   "source": [
    "planet = \"Earth\"\n",
    "diameter = 12742\n",
    "print(\"The diameter of {} is {} kilometers.\".format(planet,diameter))"
   ]
  },
  {
   "cell_type": "markdown",
   "id": "4d4f3e01",
   "metadata": {},
   "source": [
    "** Given this nested list, use indexing to grab the word \"hello\" ** "
   ]
  },
  {
   "cell_type": "code",
   "execution_count": 4,
   "id": "509b9ce2",
   "metadata": {},
   "outputs": [],
   "source": [
    "lst = [1,2,[3,4],[5,[100,200,['hello']],23,11],1,7]"
   ]
  },
  {
   "cell_type": "code",
   "execution_count": 5,
   "id": "38051585",
   "metadata": {},
   "outputs": [
    {
     "data": {
      "text/plain": [
       "'hello'"
      ]
     },
     "execution_count": 5,
     "metadata": {},
     "output_type": "execute_result"
    }
   ],
   "source": [
    "lst[3][1][2][0]"
   ]
  },
  {
   "cell_type": "markdown",
   "id": "cbe7c2a3",
   "metadata": {},
   "source": [
    "** Given this nest dictionary grab the word \"hello\". Be prepared, this will be annoying/tricky ** "
   ]
  },
  {
   "cell_type": "code",
   "execution_count": 6,
   "id": "971153b0",
   "metadata": {},
   "outputs": [],
   "source": [
    "d = {'k1':[1,2,3,{'tricky':['oh','man','inception',{'target':[1,2,3,'hello']}]}]}"
   ]
  },
  {
   "cell_type": "code",
   "execution_count": 7,
   "id": "46bf4453",
   "metadata": {},
   "outputs": [
    {
     "data": {
      "text/plain": [
       "'hello'"
      ]
     },
     "execution_count": 7,
     "metadata": {},
     "output_type": "execute_result"
    }
   ],
   "source": [
    "d[\"k1\"][3][\"tricky\"][3][\"target\"][3]"
   ]
  },
  {
   "cell_type": "markdown",
   "id": "79f30b72",
   "metadata": {},
   "source": [
    "# ** What is the main difference between a tuple and a list? **"
   ]
  },
  {
   "cell_type": "code",
   "execution_count": 8,
   "id": "89845169",
   "metadata": {},
   "outputs": [
    {
     "name": "stdout",
     "output_type": "stream",
     "text": [
      "List and Tuple in Python are the classes of Python Data Structures. The list is dynamic, whereas the tuple has static characteristics. This means that lists can be modified whereas tuples cannot be modified, the tuple is faster than the list because of static in nature\n"
     ]
    }
   ],
   "source": [
    "print(\"List and Tuple in Python are the classes of Python Data Structures. The list is dynamic, whereas the tuple has static characteristics. This means that lists can be modified whereas tuples cannot be modified, the tuple is faster than the list because of static in nature\")\n"
   ]
  },
  {
   "cell_type": "markdown",
   "id": "b60b0749",
   "metadata": {},
   "source": [
    "** Create a function that grabs the email website domain from a string in the form: **\n",
    "\n",
    "user@domain.com\n",
    "\n",
    "So for example, passing \"user@domain.com\" would return: domain.com"
   ]
  },
  {
   "cell_type": "code",
   "execution_count": 9,
   "id": "6f7cc69f",
   "metadata": {},
   "outputs": [],
   "source": [
    "def email(email):\n",
    "  return email.split(\"@\")[1]"
   ]
  },
  {
   "cell_type": "code",
   "execution_count": 10,
   "id": "2ce6f299",
   "metadata": {},
   "outputs": [
    {
     "name": "stdout",
     "output_type": "stream",
     "text": [
      "domain.com\n"
     ]
    }
   ],
   "source": [
    "email_var = \"user@domain.com\"\n",
    "print(email(email_var))"
   ]
  },
  {
   "cell_type": "markdown",
   "id": "9d51d33b",
   "metadata": {},
   "source": [
    "** Create a basic function that returns True if the word 'dog' is contained in the input string. Don't worry about edge cases like a punctuation being attached to the word dog, but do account for capitalization. **"
   ]
  },
  {
   "cell_type": "code",
   "execution_count": 11,
   "id": "d1d272c8",
   "metadata": {},
   "outputs": [],
   "source": [
    "def word_found(word):\n",
    "  return True if \"dog\" in str(word) else False"
   ]
  },
  {
   "cell_type": "code",
   "execution_count": 12,
   "id": "551c7238",
   "metadata": {},
   "outputs": [
    {
     "data": {
      "text/plain": [
       "True"
      ]
     },
     "execution_count": 12,
     "metadata": {},
     "output_type": "execute_result"
    }
   ],
   "source": [
    "word = \"Don't worry about edge cases like a punctuation being attached to the word dog, but do account for capitalization\"\n",
    "word_found(word)"
   ]
  },
  {
   "cell_type": "markdown",
   "id": "55dc2e80",
   "metadata": {},
   "source": [
    "** Create a function that counts the number of times the word \"dog\" occurs in a string. Again ignore edge cases. **"
   ]
  },
  {
   "cell_type": "code",
   "execution_count": 13,
   "id": "cb24640b",
   "metadata": {},
   "outputs": [],
   "source": [
    "def word_found_counts(word):\n",
    "  return word.count(\"dog\")"
   ]
  },
  {
   "cell_type": "code",
   "execution_count": 14,
   "id": "233312f9",
   "metadata": {},
   "outputs": [
    {
     "data": {
      "text/plain": [
       "2"
      ]
     },
     "execution_count": 14,
     "metadata": {},
     "output_type": "execute_result"
    }
   ],
   "source": [
    "word = \"Don't worry about edge cases like a punctuation being attached to the word dog, but do account for capitalization dogs\"\n",
    "word_found_counts(word)"
   ]
  },
  {
   "cell_type": "markdown",
   "id": "24a81354",
   "metadata": {},
   "source": [
    "Problem\n",
    "You are driving a little too fast, and a police officer stops you. Write a function to return one of 3 possible results: \"No ticket\", \"Small ticket\", or \"Big Ticket\". If your speed is 60 or less, the result is \"No Ticket\". If speed is between 61 and 80 inclusive, the result is \"Small Ticket\". If speed is 81 or more, the result is \"Big Ticket\". Unless it is your birthday (encoded as a boolean value in the parameters of the function) -- on your birthday, your speed can be 5 higher in all cases."
   ]
  },
  {
   "cell_type": "code",
   "execution_count": 15,
   "id": "2fd46802",
   "metadata": {},
   "outputs": [],
   "source": [
    "def caught_speeding(speed, is_birthday):\n",
    "    \n",
    "    if is_birthday:\n",
    "        speeding = speed + 5\n",
    "    else:\n",
    "        speeding = speed\n",
    "    \n",
    "    if speeding <= 80 :\n",
    "        return 'Small Ticket'\n",
    "    elif speeding <= 60:\n",
    "        return 'No Ticket'\n",
    "    else:\n",
    "        return 'Big Ticket'"
   ]
  },
  {
   "cell_type": "code",
   "execution_count": 16,
   "id": "2e16d42e",
   "metadata": {},
   "outputs": [
    {
     "name": "stdout",
     "output_type": "stream",
     "text": [
      "Big Ticket\n"
     ]
    }
   ],
   "source": [
    "print(caught_speeding(81,True))"
   ]
  },
  {
   "cell_type": "code",
   "execution_count": 17,
   "id": "4e14ff8d",
   "metadata": {},
   "outputs": [
    {
     "name": "stdout",
     "output_type": "stream",
     "text": [
      "Small Ticket\n"
     ]
    }
   ],
   "source": [
    "print(caught_speeding(80,False))"
   ]
  },
  {
   "cell_type": "markdown",
   "id": "7033ae4d",
   "metadata": {},
   "source": [
    "Create an employee list with basic salary values(at least 5 values for 5 employees) and using a for loop retreive each employee salary and calculate total salary expenditure."
   ]
  },
  {
   "cell_type": "code",
   "execution_count": 18,
   "id": "64f2832a",
   "metadata": {},
   "outputs": [
    {
     "name": "stdout",
     "output_type": "stream",
     "text": [
      "3250000\n"
     ]
    }
   ],
   "source": [
    "employee = [[\"Susmitha\",550000],[\"Rachna\",300000],[\"Gokul\",700000],[\"Varun\",900000],[\"Ram\",800000]]\n",
    "total = 0\n",
    "for i in employee:\n",
    "  \n",
    "  total += i[1]\n",
    "  \n",
    "print(total)"
   ]
  },
  {
   "cell_type": "markdown",
   "id": "bb407580",
   "metadata": {},
   "source": [
    "Create two dictionaries in Python:\n",
    "\n",
    "First one to contain fields as Empid, Empname, Basicpay\n",
    "\n",
    "Second dictionary to contain fields as DeptName, DeptId.\n",
    "\n",
    "Combine both dictionaries."
   ]
  },
  {
   "cell_type": "code",
   "execution_count": 19,
   "id": "4df03986",
   "metadata": {},
   "outputs": [
    {
     "name": "stdout",
     "output_type": "stream",
     "text": [
      "{'Empid': 1, 'Empname': 'Susmitha', 'Basicpay': 100000.0, 'DeptName': 'Information Technology', 'DeptId': 1401}\n"
     ]
    }
   ],
   "source": [
    "basic_emp = {\n",
    "    \"Empid\" : 1,\n",
    "    \"Empname\": \"Susmitha\",\n",
    "    \"Basicpay\" : 100000.00\n",
    "}\n",
    "\n",
    "second_dict = {\n",
    "    \"DeptName\" : \"Information Technology\",\n",
    "    \"DeptId\" : 1401\n",
    "}\n",
    "\n",
    "\n",
    "combine = {\n",
    "    \"Empid\" : basic_emp[\"Empid\"],\n",
    "    \"Empname\": basic_emp[\"Empname\"],\n",
    "    \"Basicpay\" : basic_emp[\"Basicpay\"],\n",
    "    \"DeptName\" : second_dict[\"DeptName\"],\n",
    "    \"DeptId\" : second_dict[\"DeptId\"]\n",
    "}\n",
    "\n",
    "print(combine)"
   ]
  },
  {
   "cell_type": "code",
   "execution_count": null,
   "id": "b5d85825",
   "metadata": {},
   "outputs": [],
   "source": []
  }
 ],
 "metadata": {
  "kernelspec": {
   "display_name": "Python 3",
   "language": "python",
   "name": "python3"
  },
  "language_info": {
   "codemirror_mode": {
    "name": "ipython",
    "version": 3
   },
   "file_extension": ".py",
   "mimetype": "text/x-python",
   "name": "python",
   "nbconvert_exporter": "python",
   "pygments_lexer": "ipython3",
   "version": "3.8.8"
  }
 },
 "nbformat": 4,
 "nbformat_minor": 5
}
